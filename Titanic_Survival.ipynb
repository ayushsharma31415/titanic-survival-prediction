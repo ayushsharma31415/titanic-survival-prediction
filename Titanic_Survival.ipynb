{
  "nbformat": 4,
  "nbformat_minor": 0,
  "metadata": {
    "colab": {
      "name": "Titanic Survival.ipynb",
      "provenance": []
    },
    "kernelspec": {
      "name": "python3",
      "display_name": "Python 3"
    }
  },
  "cells": [
    {
      "cell_type": "code",
      "metadata": {
        "id": "yyLTH_rlryny"
      },
      "source": [
        "#importing essential libraries\n",
        "import numpy as np\n",
        "import pandas as pd\n",
        "import matplotlib.pyplot as plt\n",
        "import seaborn as sns\n",
        "import os"
      ],
      "execution_count": 1,
      "outputs": []
    },
    {
      "cell_type": "code",
      "metadata": {
        "id": "0nzEHIgWzt0V",
        "outputId": "7e66e73d-72cc-464e-e433-87943e84fb11",
        "colab": {
          "base_uri": "https://localhost:8080/"
        }
      },
      "source": [
        "#Only use if using google colab\n",
        "#mounting the drive\n",
        "from google.colab import drive\n",
        "drive.mount('/content/drive', force_remount=True)\n"
      ],
      "execution_count": 2,
      "outputs": [
        {
          "output_type": "stream",
          "text": [
            "Mounted at /content/drive\n"
          ],
          "name": "stdout"
        }
      ]
    },
    {
      "cell_type": "code",
      "metadata": {
        "id": "YJZGbp1s1M7k",
        "outputId": "59f4b823-9871-4e02-fe45-44e1dbc9a29c",
        "colab": {
          "base_uri": "https://localhost:8080/"
        }
      },
      "source": [
        "print(os.getcwd())\n",
        "os.chdir('/content/drive/My Drive/Machine Learning/Titanic Survival/Dataset') #replace with the directory where the dataset is stored\n",
        "print(os.getcwd())\n"
      ],
      "execution_count": 3,
      "outputs": [
        {
          "output_type": "stream",
          "text": [
            "/content\n",
            "/content/drive/My Drive/Machine Learning/Titanic Survival/Dataset\n"
          ],
          "name": "stdout"
        }
      ]
    },
    {
      "cell_type": "code",
      "metadata": {
        "id": "XzvDJNeK3HXS"
      },
      "source": [
        "#importing the datasets\n",
        "train = pd.read_csv('train.csv')\n",
        "test = pd.read_csv('test.csv')"
      ],
      "execution_count": 4,
      "outputs": []
    },
    {
      "cell_type": "code",
      "metadata": {
        "id": "V3mByhhY5GBh"
      },
      "source": [
        "#drop unnecessary columns\n",
        "train = train.drop([\"PassengerId\", \"Name\", \"Ticket\"], axis = 1)\n",
        "test = test.drop([\"Name\", \"Ticket\"], axis = 1)"
      ],
      "execution_count": 5,
      "outputs": []
    },
    {
      "cell_type": "markdown",
      "metadata": {
        "id": "CCwOhnb_y-Y8"
      },
      "source": [
        "# Data Preprocessing\n",
        "#Embarked # only in train, fill the two missing values with the most occurred value, which is \"S\"."
      ]
    },
    {
      "cell_type": "code",
      "metadata": {
        "id": "C1KTyqfP3_H2",
        "outputId": "3bca5d8e-a37f-4b12-883c-84bf1dfd5027",
        "colab": {
          "base_uri": "https://localhost:8080/"
        }
      },
      "source": [
        "train[\"Embarked\"] = train[\"Embarked\"].fillna(\"S\") \n",
        "embark_dummies_titanic  = pd.get_dummies(train['Embarked'])\n",
        "embark_dummies_titanic.drop(['S'], axis=1, inplace=True) \n",
        "\n",
        "embark_dummies_test  = pd.get_dummies(test['Embarked'])\n",
        "embark_dummies_test.drop(['S'], axis=1, inplace=True)\n",
        "\n",
        "train = train.join(embark_dummies_titanic)\n",
        "test  = test.join(embark_dummies_test)\n",
        "\n",
        "train.drop(['Embarked'], axis=1,inplace=True)\n",
        "test.drop(['Embarked'], axis=1,inplace=True)\n",
        "train.info()"
      ],
      "execution_count": 6,
      "outputs": [
        {
          "output_type": "stream",
          "text": [
            "<class 'pandas.core.frame.DataFrame'>\n",
            "RangeIndex: 891 entries, 0 to 890\n",
            "Data columns (total 10 columns):\n",
            " #   Column    Non-Null Count  Dtype  \n",
            "---  ------    --------------  -----  \n",
            " 0   Survived  891 non-null    int64  \n",
            " 1   Pclass    891 non-null    int64  \n",
            " 2   Sex       891 non-null    object \n",
            " 3   Age       714 non-null    float64\n",
            " 4   SibSp     891 non-null    int64  \n",
            " 5   Parch     891 non-null    int64  \n",
            " 6   Fare      891 non-null    float64\n",
            " 7   Cabin     204 non-null    object \n",
            " 8   C         891 non-null    uint8  \n",
            " 9   Q         891 non-null    uint8  \n",
            "dtypes: float64(2), int64(4), object(2), uint8(2)\n",
            "memory usage: 57.6+ KB\n"
          ],
          "name": "stdout"
        }
      ]
    },
    {
      "cell_type": "code",
      "metadata": {
        "id": "SMxqvkelAsLk"
      },
      "source": [
        "# Fare # only for test_df, since there is a missing \"Fare\" values\n",
        "test[\"Fare\"].fillna(test[\"Fare\"].median(), inplace=True)\n",
        "\n",
        "#convert from float to int\n",
        "train['Fare'] = train[\"Fare\"].astype(int) \n",
        "test['Fare'] = test['Fare'].astype(int)"
      ],
      "execution_count": 7,
      "outputs": []
    },
    {
      "cell_type": "code",
      "metadata": {
        "id": "8Qe_FzMJTRqr"
      },
      "source": [
        "# Age #  fill NaN values in Age column with random values generated\n",
        "train[\"Age\"][np.isnan(train[\"Age\"])]\n",
        "train[\"Age\"].fillna(train[\"Age\"].mean(), inplace = True)\n",
        "\n",
        "test[\"Age\"].fillna(test[\"Age\"].mean(), inplace = True)"
      ],
      "execution_count": 8,
      "outputs": []
    },
    {
      "cell_type": "code",
      "metadata": {
        "id": "pBsrSvOdVlsh"
      },
      "source": [
        "#convert age from float to int\n",
        "train[\"Age\"] = train[\"Age\"].astype(int)\n",
        "test[\"Age\"] = test[\"Age\"].astype(int)"
      ],
      "execution_count": 9,
      "outputs": []
    },
    {
      "cell_type": "code",
      "metadata": {
        "id": "O8HKvSRcV0bU"
      },
      "source": [
        "# Encoding categorical data\n",
        "sex = pd.get_dummies(train['Sex'], drop_first = True, prefix = 'sex')\n",
        "pclass = pd.get_dummies(train['Pclass'], drop_first = True, prefix = 'Pclass')\n",
        "train  = pd.concat([train, sex, pclass], axis = 1)\n",
        "sex1 = pd.get_dummies(test['Sex'], drop_first = True, prefix = 'sex')\n",
        "pclass1 = pd.get_dummies(test['Pclass'], drop_first = True, prefix = 'pclass')\n",
        "test = pd.concat([test, sex1, pclass1], axis = 1)\n",
        "\n",
        "train.drop(['Pclass', 'Sex'], axis = 1, inplace = True)\n",
        "test.drop(['Pclass', 'Sex'], axis = 1, inplace = True)\n",
        "\n"
      ],
      "execution_count": 10,
      "outputs": []
    },
    {
      "cell_type": "code",
      "metadata": {
        "id": "kaGHLf6VK3Oy",
        "outputId": "0190d0e9-ab7a-4500-ab49-710b98fda31e",
        "colab": {
          "base_uri": "https://localhost:8080/"
        }
      },
      "source": [
        "# Cabin has a lot of NaN values, so it won't cause a remarkable impact on prediction\n",
        "train.drop(\"Cabin\",axis=1,inplace=True)\n",
        "test.drop(\"Cabin\",axis=1,inplace=True)\n",
        "train.info()\n",
        "test.info()"
      ],
      "execution_count": 11,
      "outputs": [
        {
          "output_type": "stream",
          "text": [
            "<class 'pandas.core.frame.DataFrame'>\n",
            "RangeIndex: 891 entries, 0 to 890\n",
            "Data columns (total 10 columns):\n",
            " #   Column    Non-Null Count  Dtype\n",
            "---  ------    --------------  -----\n",
            " 0   Survived  891 non-null    int64\n",
            " 1   Age       891 non-null    int64\n",
            " 2   SibSp     891 non-null    int64\n",
            " 3   Parch     891 non-null    int64\n",
            " 4   Fare      891 non-null    int64\n",
            " 5   C         891 non-null    uint8\n",
            " 6   Q         891 non-null    uint8\n",
            " 7   sex_male  891 non-null    uint8\n",
            " 8   Pclass_2  891 non-null    uint8\n",
            " 9   Pclass_3  891 non-null    uint8\n",
            "dtypes: int64(5), uint8(5)\n",
            "memory usage: 39.3 KB\n",
            "<class 'pandas.core.frame.DataFrame'>\n",
            "RangeIndex: 418 entries, 0 to 417\n",
            "Data columns (total 10 columns):\n",
            " #   Column       Non-Null Count  Dtype\n",
            "---  ------       --------------  -----\n",
            " 0   PassengerId  418 non-null    int64\n",
            " 1   Age          418 non-null    int64\n",
            " 2   SibSp        418 non-null    int64\n",
            " 3   Parch        418 non-null    int64\n",
            " 4   Fare         418 non-null    int64\n",
            " 5   C            418 non-null    uint8\n",
            " 6   Q            418 non-null    uint8\n",
            " 7   sex_male     418 non-null    uint8\n",
            " 8   pclass_2     418 non-null    uint8\n",
            " 9   pclass_3     418 non-null    uint8\n",
            "dtypes: int64(5), uint8(5)\n",
            "memory usage: 18.5 KB\n"
          ],
          "name": "stdout"
        }
      ]
    },
    {
      "cell_type": "code",
      "metadata": {
        "id": "4SzmOlKrX3On"
      },
      "source": [
        "# define training and testing sets\n",
        "X = train.drop(\"Survived\", axis = 1)\n",
        "Y = train[\"Survived\"]\n",
        "X_test = test.drop(\"PassengerId\", axis = 1).copy()"
      ],
      "execution_count": 12,
      "outputs": []
    },
    {
      "cell_type": "code",
      "metadata": {
        "id": "hQzAjqAvYdIL",
        "outputId": "998faeb7-74a5-4f8b-ef64-ad26e156a6b6",
        "colab": {
          "base_uri": "https://localhost:8080/"
        }
      },
      "source": [
        "# Machine Learning # Fitting Logistic Regression to training set\n",
        "from sklearn.linear_model import LogisticRegression\n",
        "model = LogisticRegression()\n",
        "model.fit(X, Y)"
      ],
      "execution_count": 13,
      "outputs": [
        {
          "output_type": "stream",
          "text": [
            "/usr/local/lib/python3.6/dist-packages/sklearn/linear_model/_logistic.py:940: ConvergenceWarning: lbfgs failed to converge (status=1):\n",
            "STOP: TOTAL NO. of ITERATIONS REACHED LIMIT.\n",
            "\n",
            "Increase the number of iterations (max_iter) or scale the data as shown in:\n",
            "    https://scikit-learn.org/stable/modules/preprocessing.html\n",
            "Please also refer to the documentation for alternative solver options:\n",
            "    https://scikit-learn.org/stable/modules/linear_model.html#logistic-regression\n",
            "  extra_warning_msg=_LOGISTIC_SOLVER_CONVERGENCE_MSG)\n"
          ],
          "name": "stderr"
        },
        {
          "output_type": "execute_result",
          "data": {
            "text/plain": [
              "LogisticRegression(C=1.0, class_weight=None, dual=False, fit_intercept=True,\n",
              "                   intercept_scaling=1, l1_ratio=None, max_iter=100,\n",
              "                   multi_class='auto', n_jobs=None, penalty='l2',\n",
              "                   random_state=None, solver='lbfgs', tol=0.0001, verbose=0,\n",
              "                   warm_start=False)"
            ]
          },
          "metadata": {
            "tags": []
          },
          "execution_count": 13
        }
      ]
    },
    {
      "cell_type": "code",
      "metadata": {
        "id": "OnhjEJZlZDOP",
        "outputId": "f8d57018-59ff-4164-8dbb-1cdba19ea456",
        "colab": {
          "base_uri": "https://localhost:8080/"
        }
      },
      "source": [
        "# Predicting the values\n",
        "y_pred = model.predict(X)\n",
        "model.score(X, Y)"
      ],
      "execution_count": 15,
      "outputs": [
        {
          "output_type": "execute_result",
          "data": {
            "text/plain": [
              "0.8092031425364759"
            ]
          },
          "metadata": {
            "tags": []
          },
          "execution_count": 15
        }
      ]
    }
  ]
}